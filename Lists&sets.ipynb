{
  "nbformat": 4,
  "nbformat_minor": 0,
  "metadata": {
    "colab": {
      "name": "Lists_sets.ipynb",
      "provenance": [],
      "authorship_tag": "ABX9TyNb76FXLOpTCHk7gHuolZoV",
      "include_colab_link": true
    },
    "kernelspec": {
      "name": "python3",
      "display_name": "Python 3"
    },
    "language_info": {
      "name": "python"
    }
  },
  "cells": [
    {
      "cell_type": "markdown",
      "metadata": {
        "id": "view-in-github",
        "colab_type": "text"
      },
      "source": [
        "<a href=\"https://colab.research.google.com/github/Ogrodowiczm89/Machine-learning/blob/main/Lists%26sets.ipynb\" target=\"_parent\"><img src=\"https://colab.research.google.com/assets/colab-badge.svg\" alt=\"Open In Colab\"/></a>"
      ]
    },
    {
      "cell_type": "code",
      "metadata": {
        "colab": {
          "base_uri": "https://localhost:8080/"
        },
        "id": "bgeecGpgLepF",
        "outputId": "fe3ffb43-ccee-424c-d665-d8173424d29b"
      },
      "source": [
        "fruit_names = ['avocado' , 'blueberry' , 'orange' , 'lemon' , 'plum']\n",
        "print(fruit_names)"
      ],
      "execution_count": 1,
      "outputs": [
        {
          "output_type": "stream",
          "text": [
            "['avocado', 'blueberry', 'orange', 'lemon', 'plum']\n"
          ],
          "name": "stdout"
        }
      ]
    },
    {
      "cell_type": "code",
      "metadata": {
        "colab": {
          "base_uri": "https://localhost:8080/"
        },
        "id": "-5_frD3_MXj-",
        "outputId": "51966fd5-e9fd-4be7-81e6-e62bb6d595d1"
      },
      "source": [
        "fruit_names.extend(['potato' , 'cabbage'])\n",
        "print(fruit_names)"
      ],
      "execution_count": 2,
      "outputs": [
        {
          "output_type": "stream",
          "text": [
            "['avocado', 'blueberry', 'orange', 'lemon', 'plum', 'potato', 'cabbage']\n"
          ],
          "name": "stdout"
        }
      ]
    },
    {
      "cell_type": "code",
      "metadata": {
        "colab": {
          "base_uri": "https://localhost:8080/"
        },
        "id": "7iktpFUcMucw",
        "outputId": "3807376a-b77d-47d7-889c-973072910a36"
      },
      "source": [
        "import random \n",
        "random.shuffle(fruit_names)\n",
        "print(fruit_names)"
      ],
      "execution_count": 3,
      "outputs": [
        {
          "output_type": "stream",
          "text": [
            "['potato', 'blueberry', 'lemon', 'plum', 'cabbage', 'orange', 'avocado']\n"
          ],
          "name": "stdout"
        }
      ]
    },
    {
      "cell_type": "code",
      "metadata": {
        "colab": {
          "base_uri": "https://localhost:8080/"
        },
        "id": "dAUxwH1uM6wZ",
        "outputId": "9d3510a4-e9d5-4f52-9b71-a280227f3deb"
      },
      "source": [
        "print(fruit_names[5])"
      ],
      "execution_count": 4,
      "outputs": [
        {
          "output_type": "stream",
          "text": [
            "orange\n"
          ],
          "name": "stdout"
        }
      ]
    },
    {
      "cell_type": "code",
      "metadata": {
        "colab": {
          "base_uri": "https://localhost:8080/"
        },
        "id": "CiRrmycsM-ix",
        "outputId": "ebb882de-b174-49d0-81ba-2184a5fe86dc"
      },
      "source": [
        "fruit_names.remove('orange')\n",
        "print(fruit_names)"
      ],
      "execution_count": 5,
      "outputs": [
        {
          "output_type": "stream",
          "text": [
            "['potato', 'blueberry', 'lemon', 'plum', 'cabbage', 'avocado']\n"
          ],
          "name": "stdout"
        }
      ]
    },
    {
      "cell_type": "code",
      "metadata": {
        "colab": {
          "base_uri": "https://localhost:8080/"
        },
        "id": "uxbbBPzUNKC5",
        "outputId": "838a555d-fcec-40e9-a857-64ab998513c7"
      },
      "source": [
        "print(fruit_names)"
      ],
      "execution_count": 6,
      "outputs": [
        {
          "output_type": "stream",
          "text": [
            "['potato', 'blueberry', 'lemon', 'plum', 'cabbage', 'avocado']\n"
          ],
          "name": "stdout"
        }
      ]
    },
    {
      "cell_type": "code",
      "metadata": {
        "colab": {
          "base_uri": "https://localhost:8080/"
        },
        "id": "5Q9_JyigNTQP",
        "outputId": "2ae251b4-e008-4bb6-ce68-41d250403ebf"
      },
      "source": [
        "fruit_names.sort()\n",
        "print(fruit_names)"
      ],
      "execution_count": 7,
      "outputs": [
        {
          "output_type": "stream",
          "text": [
            "['avocado', 'blueberry', 'cabbage', 'lemon', 'plum', 'potato']\n"
          ],
          "name": "stdout"
        }
      ]
    },
    {
      "cell_type": "code",
      "metadata": {
        "colab": {
          "base_uri": "https://localhost:8080/"
        },
        "id": "NyQANC4dNWT7",
        "outputId": "e9d8bed1-b16f-4018-f3a0-c65026f513e1"
      },
      "source": [
        "for fruit in fruit_names:\n",
        "  print(fruit)"
      ],
      "execution_count": 8,
      "outputs": [
        {
          "output_type": "stream",
          "text": [
            "avocado\n",
            "blueberry\n",
            "cabbage\n",
            "lemon\n",
            "plum\n",
            "potato\n"
          ],
          "name": "stdout"
        }
      ]
    },
    {
      "cell_type": "code",
      "metadata": {
        "colab": {
          "base_uri": "https://localhost:8080/"
        },
        "id": "-1AaEh8-NbU_",
        "outputId": "72c118b6-8215-4a67-9e55-1b450c5ab721"
      },
      "source": [
        "first_list = [\"a\" + str(number) for number in range(1, 10)]\n",
        "second_list = [\"b\" + str(number) for number in range(1, 10)] \n",
        "print(first_list + second_list)"
      ],
      "execution_count": 14,
      "outputs": [
        {
          "output_type": "stream",
          "text": [
            "['a1', 'a2', 'a3', 'a4', 'a5', 'a6', 'a7', 'a8', 'a9', 'b1', 'b2', 'b3', 'b4', 'b5', 'b6', 'b7', 'b8', 'b9']\n"
          ],
          "name": "stdout"
        }
      ]
    },
    {
      "cell_type": "code",
      "metadata": {
        "colab": {
          "base_uri": "https://localhost:8080/"
        },
        "id": "o18sApOwOJR2",
        "outputId": "3d77dd68-58cf-4c9d-ae2c-0b037062823d"
      },
      "source": [
        "paired_list = first_list + second_list\n",
        "print(paired_list)"
      ],
      "execution_count": 15,
      "outputs": [
        {
          "output_type": "stream",
          "text": [
            "['a1', 'a2', 'a3', 'a4', 'a5', 'a6', 'a7', 'a8', 'a9', 'b1', 'b2', 'b3', 'b4', 'b5', 'b6', 'b7', 'b8', 'b9']\n"
          ],
          "name": "stdout"
        }
      ]
    },
    {
      "cell_type": "code",
      "metadata": {
        "colab": {
          "base_uri": "https://localhost:8080/"
        },
        "id": "wfBp4GQiOMAA",
        "outputId": "c3674da7-b852-475d-882e-d27406da45cd"
      },
      "source": [
        "def convert(list):\n",
        "  return tuple(list)\n",
        "\n",
        "print(convert(first_list))\n",
        "print(convert(second_list))\n",
        "\n",
        "for i in range(len(first_list)):\n",
        "  print(f\"Index of {first_list[i]} and {second_list[i]} is egual {i}\")"
      ],
      "execution_count": 16,
      "outputs": [
        {
          "output_type": "stream",
          "text": [
            "('a1', 'a2', 'a3', 'a4', 'a5', 'a6', 'a7', 'a8', 'a9')\n",
            "('b1', 'b2', 'b3', 'b4', 'b5', 'b6', 'b7', 'b8', 'b9')\n",
            "Index of a1 and b1 is egual 0\n",
            "Index of a2 and b2 is egual 1\n",
            "Index of a3 and b3 is egual 2\n",
            "Index of a4 and b4 is egual 3\n",
            "Index of a5 and b5 is egual 4\n",
            "Index of a6 and b6 is egual 5\n",
            "Index of a7 and b7 is egual 6\n",
            "Index of a8 and b8 is egual 7\n",
            "Index of a9 and b9 is egual 8\n"
          ],
          "name": "stdout"
        }
      ]
    },
    {
      "cell_type": "code",
      "metadata": {
        "id": "4GqPkwhCahE1"
      },
      "source": [
        "import copy"
      ],
      "execution_count": 19,
      "outputs": []
    },
    {
      "cell_type": "code",
      "metadata": {
        "colab": {
          "base_uri": "https://localhost:8080/"
        },
        "id": "HIB6c79wOYPs",
        "outputId": "07e84751-ebba-46da-93d8-2b028f14946b"
      },
      "source": [
        "fake_names_1 = ['Sherry', 'Mary', 'Matthew', 'Danielle', 'Jeffrey', 'Lauren', 'Keith', \n",
        "                'Carlos', 'Monique', 'Laura', 'Jared', 'Valerie', 'Juan', 'Christopher', \n",
        "                'Erica', 'Dawn', 'Joshua', 'Brandon', 'Stephanie']\n",
        "\n",
        "fake_names_2 = ['Andre', 'Anthony', 'Lauren', 'Douglas', 'Jonathan', 'Richard', \n",
        "                'Alyssa', 'Vincent', 'Travis', 'Clifford', 'Jerry', 'Justin',\n",
        "                'Matthew', 'Jared', 'Erica']\n",
        "\n",
        "fake_names_1.sort()\n",
        "fake_names_2.sort()\n",
        "\n",
        "\n",
        "overlapping_names = []\n",
        "for elem in copy.deepcopy(fake_names_1):\n",
        "  if elem in fake_names_2:\n",
        "    fake_names_1.pop(fake_names_1.index(elem))\n",
        "    overlapping_names.append(fake_names_2.pop(fake_names_2.index(elem)))\n",
        "\n",
        "print(overlapping_names)"
      ],
      "execution_count": 29,
      "outputs": [
        {
          "output_type": "stream",
          "text": [
            "['Erica', 'Jared', 'Lauren', 'Matthew']\n"
          ],
          "name": "stdout"
        }
      ]
    },
    {
      "cell_type": "code",
      "metadata": {
        "id": "rBToLmPqBYl1"
      },
      "source": [
        "for i in overlapping_names:\n",
        "  index1 = fake_names_1.index(i)\n",
        "  index2 = fake_names_2.index(i)\n",
        "  print(f\"Index of {i} in fake_name_1: {index1} and fake_name_2: {index2} \")"
      ],
      "execution_count": 27,
      "outputs": []
    },
    {
      "cell_type": "code",
      "metadata": {
        "colab": {
          "base_uri": "https://localhost:8080/",
          "height": 214
        },
        "id": "zG7yigPRBfGw",
        "outputId": "d305ad07-ec7d-436c-a047-35c7514a120a"
      },
      "source": [
        "union = []\n",
        "\n",
        "for i in overlapping_names:\n",
        "  union.append(fake_names_1.index(i) + fake_names_2.index(i))\n",
        "\n",
        "print(union)\n",
        "\n",
        "for ele in range(len(union)):\n",
        "  total += union[ele]\n",
        "\n",
        "print('Total: {}'.format(total))"
      ],
      "execution_count": 28,
      "outputs": [
        {
          "output_type": "stream",
          "text": [
            "[]\n"
          ],
          "name": "stdout"
        },
        {
          "output_type": "error",
          "ename": "NameError",
          "evalue": "ignored",
          "traceback": [
            "\u001b[0;31m---------------------------------------------------------------------------\u001b[0m",
            "\u001b[0;31mNameError\u001b[0m                                 Traceback (most recent call last)",
            "\u001b[0;32m<ipython-input-28-82eedde1f3fe>\u001b[0m in \u001b[0;36m<module>\u001b[0;34m()\u001b[0m\n\u001b[1;32m      8\u001b[0m   \u001b[0mtotal\u001b[0m \u001b[0;34m+=\u001b[0m \u001b[0munion\u001b[0m\u001b[0;34m[\u001b[0m\u001b[0mele\u001b[0m\u001b[0;34m]\u001b[0m\u001b[0;34m\u001b[0m\u001b[0;34m\u001b[0m\u001b[0m\n\u001b[1;32m      9\u001b[0m \u001b[0;34m\u001b[0m\u001b[0m\n\u001b[0;32m---> 10\u001b[0;31m \u001b[0mprint\u001b[0m\u001b[0;34m(\u001b[0m\u001b[0;34m'Total: {}'\u001b[0m\u001b[0;34m.\u001b[0m\u001b[0mformat\u001b[0m\u001b[0;34m(\u001b[0m\u001b[0mtotal\u001b[0m\u001b[0;34m)\u001b[0m\u001b[0;34m)\u001b[0m\u001b[0;34m\u001b[0m\u001b[0;34m\u001b[0m\u001b[0m\n\u001b[0m",
            "\u001b[0;31mNameError\u001b[0m: name 'total' is not defined"
          ]
        }
      ]
    },
    {
      "cell_type": "code",
      "metadata": {
        "id": "okJ1T6B-OxBJ"
      },
      "source": [
        "difference = set(fake_names_1) | set(fake_names_2) - set(fake_names_1) & set(fake_names_2)\n",
        "\n",
        "print(difference)"
      ],
      "execution_count": null,
      "outputs": []
    }
  ]
}